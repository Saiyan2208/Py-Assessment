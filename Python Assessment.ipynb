{
 "cells": [
  {
   "cell_type": "markdown",
   "metadata": {},
   "source": [
    "## Using Python3"
   ]
  },
  {
   "cell_type": "markdown",
   "metadata": {},
   "source": [
    "### 4) Write a program to Sort a List of Tuples in Increasing Order by the Last Element in Each Tuple. "
   ]
  },
  {
   "cell_type": "code",
   "execution_count": null,
   "metadata": {},
   "outputs": [],
   "source": [
    "# defining a function sorting() that takes a list of tuples as an argument\n",
    "def sorting(*list1):\n",
    "    return sorted(list1,key=lambda x:x[-1]) #return the sorted list of tuples\n",
    "#sorted is used to sort the list in ascending order by default\n",
    "#it considers the first element of each tuple for sorting. Hence we pass the key which is the last element of the\n",
    "#tuple in this case"
   ]
  },
  {
   "cell_type": "code",
   "execution_count": null,
   "metadata": {},
   "outputs": [],
   "source": [
    "sorting((1,2),(1,3),(0,9),(4,4),(1,2,6,11,32,89,0,4,0,112),(1,))"
   ]
  },
  {
   "cell_type": "code",
   "execution_count": null,
   "metadata": {},
   "outputs": [],
   "source": []
  },
  {
   "cell_type": "code",
   "execution_count": null,
   "metadata": {},
   "outputs": [],
   "source": []
  },
  {
   "cell_type": "markdown",
   "metadata": {},
   "source": [
    "### 3) Write a binary search function which searches for an element in a list. Your output should return index of element if present otherwise raise an exception ‘Element not found’\n"
   ]
  },
  {
   "cell_type": "code",
   "execution_count": 10,
   "metadata": {},
   "outputs": [
    {
     "name": "stdout",
     "output_type": "stream",
     "text": [
      "Specify the number of elements in the list: 3\n",
      "Enter a list of 3  elements: 1 2 3\n",
      "Enter element to be searched: 2\n",
      "element found\n"
     ]
    }
   ],
   "source": [
    "n=int(input('Specify the number of elements in the list: '))\n",
    "main_list=sorted(list(map(int,input('Enter a list of %d ' %n +' elements: ').split())))\n",
    "\n",
    "def binary_search(element,search_list=main_list):\n",
    "    start = 0\n",
    "    end = len(search_list)\n",
    "    while start < end:\n",
    "        mid = (start + end)//2\n",
    "        if search_list[mid] > element:\n",
    "            end = mid\n",
    "        elif search_list[mid] < element:\n",
    "            start = mid + 1\n",
    "        else:\n",
    "            return mid\n",
    "    return -1\n",
    "index=binary_search(int(input('Enter element to be searched: ')))\n",
    "if index==-1:\n",
    "    print('element not found')\n",
    "else:\n",
    "    print('element found')"
   ]
  },
  {
   "cell_type": "code",
   "execution_count": null,
   "metadata": {},
   "outputs": [],
   "source": []
  },
  {
   "cell_type": "code",
   "execution_count": null,
   "metadata": {},
   "outputs": [],
   "source": []
  },
  {
   "cell_type": "markdown",
   "metadata": {},
   "source": [
    "### 2) Write a program to find frequency of each distinct word in a given text file input.txt. Your Output should be stored in a different file named output.txt  in alphanumeric order each word per line excluding all special characters.(if numeric values are present in file it should be at the start of output file)\n"
   ]
  },
  {
   "cell_type": "code",
   "execution_count": null,
   "metadata": {},
   "outputs": [],
   "source": [
    "from collections import Counter\n",
    "word_list=[]\n",
    "for i in open('input.txt').read().split():\n",
    "    word_list.append(i) #appending each word of the file to the list word_list\n",
    "final=sorted(Counter(word_list).items(),key=lambda x:x[0]) #sorting the file according to the alphanumeric ordering\n",
    "final"
   ]
  },
  {
   "cell_type": "code",
   "execution_count": null,
   "metadata": {},
   "outputs": [],
   "source": [
    "with open('output.txt', 'w') as opt_file:\n",
    "    opt_file.write(str(final))\n",
    "    opt_file.write('\\n')"
   ]
  },
  {
   "cell_type": "code",
   "execution_count": null,
   "metadata": {},
   "outputs": [],
   "source": []
  },
  {
   "cell_type": "code",
   "execution_count": null,
   "metadata": {},
   "outputs": [],
   "source": []
  },
  {
   "cell_type": "markdown",
   "metadata": {},
   "source": [
    "### 5) Load the following json content and print the arn of the s3 bucket\n"
   ]
  },
  {
   "cell_type": "code",
   "execution_count": null,
   "metadata": {},
   "outputs": [],
   "source": [
    "json1={\n",
    "  \"Records\": [\n",
    "    {\n",
    "      \"eventVersion\": \"2.0\",\n",
    "      \"eventTime\": \"1970-01-01T00:00:00.000Z\",\n",
    "      \"requestParameters\": {\n",
    "        \"sourceIPAddress\": \"127.0.0.1\"\n",
    "      },\n",
    "      \"s3\": {\n",
    "        \"configurationId\": \"testConfigRule\",\n",
    "        \"object\": {\n",
    "          \"eTag\": \"0123456789abcdef0123456789abcdef\",\n",
    "          \"sequencer\": \"0A1B2C3D4E5F678901\",\n",
    "          \"key\": \"HappyFace.jpg\",\n",
    "          \"size\": 1024\n",
    "        },\n",
    "        \"bucket\": {\n",
    "          \"arn\": \"arn:aws:s3:::mybucket\",\n",
    "          \"name\": \"sourcebucket\",\n",
    "          \"ownerIdentity\": {\n",
    "            \"principalId\": \"EXAMPLE\"\n",
    "          }\n",
    "        },\n",
    "        \"s3SchemaVersion\": \"1.0\"\n",
    "      },\n",
    "      \"responseElements\": {\n",
    "        \"x-amz-id-2\": \"EXAMPLE123/5678abcdefghijklambdaisawesome/mnopqrstuvwxyzABCDEFGH\",\n",
    "        \"x-amz-request-id\": \"EXAMPLE123456789\"\n",
    "      },\n",
    "      \"awsRegion\": \"us-east-1\",\n",
    "      \"eventName\": \"ObjectCreated:Put\",\n",
    "      \"userIdentity\": {\n",
    "        \"principalId\": \"EXAMPLE\"\n",
    "      },\n",
    "      \"eventSource\": \"aws:s3\"\n",
    "    }\n",
    "  ]\n",
    "}\n",
    "# the above is a dictionary, so we need to convert that to json before parsing"
   ]
  },
  {
   "cell_type": "code",
   "execution_count": null,
   "metadata": {},
   "outputs": [],
   "source": [
    "import json\n",
    "json1=json.dumps(json1)# converting dictionary to json\n",
    "json.loads(json1)['Records'][0]['s3']['bucket']['arn']"
   ]
  },
  {
   "cell_type": "code",
   "execution_count": null,
   "metadata": {},
   "outputs": [],
   "source": []
  },
  {
   "cell_type": "code",
   "execution_count": null,
   "metadata": {},
   "outputs": [],
   "source": []
  },
  {
   "cell_type": "markdown",
   "metadata": {},
   "source": [
    "### 1)Write a PYTHON program to check the validity of a password chosen by a user.\n"
   ]
  },
  {
   "cell_type": "code",
   "execution_count": null,
   "metadata": {},
   "outputs": [],
   "source": [
    "def main():\n",
    "    validate(input('Enter your password: '))\n",
    "\n",
    "def validate(password):\n",
    "    if len(password)>=12 or len(password)<=6:\n",
    "        print('Invalid')\n",
    "    for j in password:\n",
    "        if j.isdigit() and j.isupper() and j.islower():\n",
    "            print('Valid')\n",
    "        else:\n",
    "            print('Invalid')\n",
    "    \n",
    "main()"
   ]
  },
  {
   "cell_type": "code",
   "execution_count": null,
   "metadata": {},
   "outputs": [],
   "source": []
  }
 ],
 "metadata": {
  "kernelspec": {
   "display_name": "Python 3",
   "language": "python",
   "name": "python3"
  }
 },
 "nbformat": 4,
 "nbformat_minor": 2
}
